{
 "cells": [
  {
   "cell_type": "code",
   "execution_count": 5,
   "id": "c4a223c4-a55a-4194-a3f5-7052c53c0b67",
   "metadata": {
    "tags": []
   },
   "outputs": [
    {
     "name": "stdout",
     "output_type": "stream",
     "text": [
      "decimal\\decimal_DoS.csv has been imported.\n",
      "decimal\\decimal_benign.csv has been imported.\n",
      "decimal\\decimal_spoofing-GAS.csv has been imported.\n",
      "decimal\\decimal_spoofing-RPM.csv has been imported.\n",
      "decimal\\decimal_spoofing-SPEED.csv has been imported.\n",
      "decimal\\decimal_spoofing-STEERING_WHEEL.csv has been imported.\n"
     ]
    }
   ],
   "source": [
    "import shutil\n",
    "import glob\n",
    "#import csv files from folder\n",
    "path = r'decimal'\n",
    "allFiles = glob.glob(path + \"/*.csv\")\n",
    "allFiles.sort()  # glob lacks reliable ordering, so impose your own if output order matters\n",
    "with open('combined_dataset.csv', 'wb') as outfile:\n",
    "    for i, fname in enumerate(allFiles):\n",
    "        with open(fname, 'rb') as infile:\n",
    "            if i != 0:\n",
    "                infile.readline()  # Throw away header on all but first file\n",
    "            # Block copy rest of file from input to output without parsing\n",
    "            shutil.copyfileobj(infile, outfile)\n",
    "            print(fname + \" has been imported.\")"
   ]
  },
  {
   "cell_type": "code",
   "execution_count": null,
   "id": "7c70e7a5-df1b-4140-8823-49ce195554d1",
   "metadata": {},
   "outputs": [],
   "source": []
  }
 ],
 "metadata": {
  "kernelspec": {
   "display_name": "Python 3 (ipykernel)",
   "language": "python",
   "name": "python3"
  },
  "language_info": {
   "codemirror_mode": {
    "name": "ipython",
    "version": 3
   },
   "file_extension": ".py",
   "mimetype": "text/x-python",
   "name": "python",
   "nbconvert_exporter": "python",
   "pygments_lexer": "ipython3",
   "version": "3.11.7"
  }
 },
 "nbformat": 4,
 "nbformat_minor": 5
}
