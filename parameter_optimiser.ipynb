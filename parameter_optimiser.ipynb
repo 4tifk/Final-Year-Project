{
 "cells": [
  {
   "cell_type": "code",
   "execution_count": 2,
   "id": "4ca451dd-4abf-4db5-b866-ff5c05bfa23a",
   "metadata": {
    "tags": []
   },
   "outputs": [],
   "source": [
    "import pandas as pd\n",
    "import numpy as np\n",
    "\n",
    "from sklearn import linear_model, preprocessing\n",
    "from sklearn.model_selection import train_test_split\n",
    "from sklearn.metrics import confusion_matrix\n",
    "from sklearn.metrics import classification_report\n",
    "from sklearn.feature_selection import r_regression\n",
    "\n",
    "from sklearn.metrics import ConfusionMatrixDisplay\n",
    "import matplotlib.pyplot as plt\n",
    "import time\n",
    "\n",
    "#models\n",
    "from sklearn.tree import DecisionTreeClassifier\n",
    "from sklearn.naive_bayes import GaussianNB\n",
    "from sklearn import neural_network\n",
    "from sklearn.linear_model import SGDClassifier\n",
    "\n",
    "#preprocessor and reading data in\n",
    "le = preprocessing.LabelEncoder()\n",
    "df = pd.read_csv(\"combined_dataset.csv\")"
   ]
  },
  {
   "cell_type": "code",
   "execution_count": 4,
   "id": "6c585d1c-1d64-4c7a-8dd8-9e42bf845fc3",
   "metadata": {
    "tags": []
   },
   "outputs": [],
   "source": [
    "# create data frames\n",
    "X = (df.drop([\"label\",\"category\",\"specific_class\"], axis=1))\n",
    "Y = (df.drop([\"ID\",\"DATA_0\",\"DATA_1\",\"DATA_2\",\"DATA_3\",\"DATA_4\",\"DATA_5\",\"DATA_6\",\"DATA_7\",\"category\",\"specific_class\"], axis=1))\n",
    "\n",
    "# convert target column to dummy values\n",
    "label = le.fit_transform(list(Y[\"label\"]))\n",
    "Y.drop(\"label\", axis=1, inplace=True)\n",
    "Y[\"label\"] = label"
   ]
  },
  {
   "cell_type": "code",
   "execution_count": 7,
   "id": "0ce52278-052e-43e4-9605-68ca09f0d62c",
   "metadata": {
    "tags": []
   },
   "outputs": [],
   "source": [
    "#split data for testing and training\n",
    "X_train, X_test, Y_train, Y_test = train_test_split(X,Y, random_state=15, test_size = 0.2)"
   ]
  },
  {
   "cell_type": "code",
   "execution_count": 10,
   "id": "f709f3ae-7d6f-48fa-816f-7bf76043f1e4",
   "metadata": {
    "tags": []
   },
   "outputs": [],
   "source": [
    "#parameter optimiser below\n",
    "from sklearn.model_selection import GridSearchCV"
   ]
  },
  {
   "cell_type": "code",
   "execution_count": null,
   "id": "7d777423-09da-4991-ab76-2455f33b37f0",
   "metadata": {},
   "outputs": [],
   "source": [
    "#parameter optimiser\n",
    "parameters = {'max_iter': [10], 'alpha': 10.0 ** -np.arange(1, 10), 'hidden_layer_sizes':np.arange(0, 15),'learning_rate': ['constant','adaptive']}\n",
    "clf = GridSearchCV(neural_network.MLPClassifier(), parameters, n_jobs=-1)\n",
    "\n",
    "clf.fit(X_train, Y_train)\n",
    "print(clf.best_params_)"
   ]
  },
  {
   "cell_type": "code",
   "execution_count": null,
   "id": "79e95b20-4f73-41bf-a1d8-cf0fdb3f23f8",
   "metadata": {},
   "outputs": [],
   "source": [
    "clf_pred = clf.predict(X_test)"
   ]
  }
 ],
 "metadata": {
  "kernelspec": {
   "display_name": "Python 3 (ipykernel)",
   "language": "python",
   "name": "python3"
  },
  "language_info": {
   "codemirror_mode": {
    "name": "ipython",
    "version": 3
   },
   "file_extension": ".py",
   "mimetype": "text/x-python",
   "name": "python",
   "nbconvert_exporter": "python",
   "pygments_lexer": "ipython3",
   "version": "3.11.7"
  }
 },
 "nbformat": 4,
 "nbformat_minor": 5
}
